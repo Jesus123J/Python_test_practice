{
 "cells": [
  {
   "cell_type": "code",
   "execution_count": 7,
   "metadata": {},
   "outputs": [
    {
     "name": "stdout",
     "output_type": "stream",
     "text": [
      "[7, 17, 16]\n"
     ]
    }
   ],
   "source": [
    "#liste imbriquée créée\n",
    "\n",
    "number = [[1,2,4],[4,5,8],[4,3,9]]\n",
    "def sumArray(list_nested):\n",
    "\n",
    "    #liste imbriquée\n",
    "    sum_result = []\n",
    "    for number in list_nested:\n",
    "        sum_result.append(sum(number))\n",
    "    return sum_result\n",
    "\n",
    "print(sumArray(number))\n"
   ]
  }
 ],
 "metadata": {
  "kernelspec": {
   "display_name": "Python 3",
   "language": "python",
   "name": "python3"
  },
  "language_info": {
   "codemirror_mode": {
    "name": "ipython",
    "version": 3
   },
   "file_extension": ".py",
   "mimetype": "text/x-python",
   "name": "python",
   "nbconvert_exporter": "python",
   "pygments_lexer": "ipython3",
   "version": "3.12.0"
  }
 },
 "nbformat": 4,
 "nbformat_minor": 2
}
